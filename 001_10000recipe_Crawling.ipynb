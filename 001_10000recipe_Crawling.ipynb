{
  "nbformat": 4,
  "nbformat_minor": 0,
  "metadata": {
    "colab": {
      "provenance": [],
      "collapsed_sections": [
        "1kXjLzmIoS8u"
      ],
      "authorship_tag": "ABX9TyOKxutUa7XxB+lv+fkf4BYQ",
      "include_colab_link": true
    },
    "kernelspec": {
      "name": "python3",
      "display_name": "Python 3"
    },
    "language_info": {
      "name": "python"
    }
  },
  "cells": [
    {
      "cell_type": "markdown",
      "metadata": {
        "id": "view-in-github",
        "colab_type": "text"
      },
      "source": [
        "<a href=\"https://colab.research.google.com/github/minsaee/ai_chat_project01/blob/master/001_10000recipe_Crawling.ipynb\" target=\"_parent\"><img src=\"https://colab.research.google.com/assets/colab-badge.svg\" alt=\"Open In Colab\"/></a>"
      ]
    },
    {
      "cell_type": "code",
      "source": [
        "from google.colab import drive\n",
        "drive.mount('/content/drive')\n",
        "\n",
        "%cd '/content/drive/MyDrive/ai_chat_openAI'"
      ],
      "metadata": {
        "colab": {
          "base_uri": "https://localhost:8080/"
        },
        "id": "Mj8Cc9S2HbLF",
        "outputId": "1e82761d-25ae-455f-cc28-82361ba38e47"
      },
      "execution_count": null,
      "outputs": [
        {
          "output_type": "stream",
          "name": "stdout",
          "text": [
            "Mounted at /content/drive\n",
            "/content/drive/MyDrive/ai_chat_openAI\n"
          ]
        }
      ]
    },
    {
      "cell_type": "markdown",
      "source": [
        "# 테스트 하던거"
      ],
      "metadata": {
        "id": "1kXjLzmIoS8u"
      }
    },
    {
      "cell_type": "code",
      "source": [
        "import os\n",
        "from bs4 import BeautifulSoup\n",
        "import requests\n",
        "\n",
        "for i in range(1, 11):\n",
        "  # 링크 분류 : 재료\n",
        "\n",
        "  url = 'https://www.10000recipe.com/recipe/list.html?cat3=71&order=reco&page='+str(i)\n",
        "\n",
        "\n",
        "  html = requests.get(url).text\n",
        "  soup = BeautifulSoup(html, 'html.parser')\n",
        "  # bad_chars = [';', ':', '!', \"*\", \" \"]\n",
        "  # for i in bad_chars:\n",
        "  #   test_string = test_string.replace(i, '')\n",
        "\n",
        "  menus = soup.find_all('li', {'class':'common_sp_list_li'})\n",
        "\n",
        "  # 요리 이름 저장하기.\n",
        "  for menu in menus:\n",
        "    title = menu.find('div', {'class':'common_sp_caption_tit'}).text\n",
        "\n",
        "    # print(title)\n",
        "    # file_exists = os.path.exists(filename+'.txt')\n",
        "    # if not file_exists:\n",
        "    #       with open(filename+'.txt', 'w') as f:\n",
        "    #         pass\n",
        "    # 본문 링크 자동화.\n",
        "\n",
        "    link = menu.find('a', {'class':'common_sp_link'})['href']\n",
        "    filename = link.replace('/recipe/', '')\n",
        "    new_url = 'https://www.10000recipe.com'+link\n",
        "\n",
        "    sub_html = requests.get(new_url).text\n",
        "    sub_soup = BeautifulSoup(sub_html, 'html.parser')\n",
        "\n",
        "    if sub_soup.find_all('div', {'class':'view_step_cont'}):\n",
        "\n",
        "      # 텍스트 파일 .txt로 저장하기.\n",
        "      f = open(f'./data/{filename}.txt', 'w', encoding = 'utf-8-sig')\n",
        "      f.write(title+'\\n')\n",
        "\n",
        "\n",
        "      # 이미지 파일 .jpg로 저장하기\n",
        "\n",
        "      img = sub_soup.find('img', {'id':'main_thumbs'})\n",
        "      img_f = open(f'./data/images/{filename}.jpg', 'wb')\n",
        "      img_f.write(requests.get(img['src']).content)\n",
        "      img_f.close()\n",
        "\n",
        "      # info 데이터 저장하기.\n",
        "\n",
        "      if sub_soup.find('span', {'class':'view2_summary_info1'}) is not None :\n",
        "          info1 = sub_soup.find('span', {'class':'view2_summary_info1'}).text\n",
        "          f.write('기준:'+info1+',')\n",
        "\n",
        "      if sub_soup.find('span', {'class':'view2_summary_info2'}) is not None :\n",
        "          info2 = sub_soup.find('span', {'class':'view2_summary_info2'}).text\n",
        "          f.write('조리시간:'+info2+',')\n",
        "\n",
        "      if sub_soup.find('span', {'class':'view2_summary_info3'}) is not None :\n",
        "          info3 = sub_soup.find('span', {'class':'view2_summary_info3'}).text\n",
        "          f.write('난이도:'+info3+'\\n')\n",
        "\n",
        "\n",
        "      f.write('\\n\\ningre:\\n')\n",
        "      # 재료 및 양념 저장하기.\n",
        "\n",
        "      ingre3 = sub_soup.find('div', {'class':'ready_ingre3'},{'id':'divConfirmedMaterialArea'})\n",
        "      ingre = ingre3.find_all('li')\n",
        "      lists = ''\n",
        "      for i in ingre:\n",
        "        v = i.find('a',{'class':'ingre_list_btn'})\n",
        "        if v :\n",
        "          v.decompose()\n",
        "        # i.find('a',{'class':'ingre_list_btn'}).decompose() # 구매 태그 삭제\n",
        "        # i.span.decompose() -> 정량 삭제\n",
        "        lists = i.text.strip().replace('\\n', '').replace(' ','')\n",
        "        # + i.text.strip() + ','\n",
        "        f.write(lists+'\\n')\n",
        "        # print(lists)\n",
        "\n",
        "      f.write('\\n\\nsteps:\\n')\n",
        "      # 레시피 저장하기.\n",
        "      steps = sub_soup.find_all('div', {'class':'view_step_cont'})\n",
        "      for i, s in enumerate(steps):\n",
        "        p = s.find('p')\n",
        "        if p:\n",
        "          s.p.decompose()\n",
        "        # s.p.decompose() # 도구 삭제\n",
        "        f.write('{}.{}\\n'.format(i+1, s.find('div', {'class':'media-body'}).text))\n",
        "        # print(s.find('div', {'class':'media-body'}).text)\n",
        "      if sub_soup.find('dl', {'class':'view_step_tip'}):\n",
        "        f.write('\\n\\ntips:\\n')\n",
        "        # 팁 저장하기.\n",
        "        tips = sub_soup.find('dl', {'class':'view_step_tip'}).text\n",
        "        f.write(tips)\n",
        "      f.close()"
      ],
      "metadata": {
        "id": "dHR-V_G9K39G"
      },
      "execution_count": null,
      "outputs": []
    },
    {
      "cell_type": "markdown",
      "source": [
        "# 정상 작동"
      ],
      "metadata": {
        "id": "9KMPLCfRoLt0"
      }
    },
    {
      "cell_type": "code",
      "source": [
        "import os\n",
        "from bs4 import BeautifulSoup\n",
        "import requests\n",
        "import time\n",
        "\n",
        "for i in range(1, 11):\n",
        "  # 링크 분류 : 재료\n",
        "\n",
        "  url = 'https://www.10000recipe.com/recipe/list.html?cat3=27&order=reco&page='+str(i)\n",
        "\n",
        "\n",
        "  html = requests.get(url).text\n",
        "  soup = BeautifulSoup(html, 'html.parser')\n",
        "  # bad_chars = [';', ':', '!', \"*\", \" \"]\n",
        "  # for i in bad_chars:\n",
        "  #   test_string = test_string.replace(i, '')\n",
        "\n",
        "  menus = soup.find_all('li', {'class':'common_sp_list_li'})\n",
        "\n",
        "  # 요리 이름 저장하기.\n",
        "  for menu in menus:\n",
        "    title = menu.find('div', {'class':'common_sp_caption_tit'}).text\n",
        "    view = menu.find('span', {'class':'common_sp_caption_buyer'}).text.replace(' ',':').replace('.', '').replace('만', ',000')\n",
        "\n",
        "    # print(title)\n",
        "    # file_exists = os.path.exists(filename+'.txt')\n",
        "    # if not file_exists:\n",
        "    #       with open(filename+'.txt', 'w') as f:\n",
        "    #         pass\n",
        "    # 본문 링크 자동화.\n",
        "\n",
        "    link = menu.find('a', {'class':'common_sp_link'})['href']\n",
        "    filename = link.replace('/recipe/', '')\n",
        "    new_url = 'https://www.10000recipe.com'+link\n",
        "\n",
        "    sub_html = requests.get(new_url).text\n",
        "    sub_soup = BeautifulSoup(sub_html, 'html.parser')\n",
        "\n",
        "    if sub_soup.find_all('div', {'class':'view_step_cont'}):\n",
        "\n",
        "      # 텍스트 파일 .txt로 저장하기.\n",
        "      f = open(f'./data/soy_nuts/{filename}.txt', 'w', encoding = 'utf-8-sig')\n",
        "      f.write(title+'\\n'+view+'\\n')\n",
        "\n",
        "\n",
        "      # 이미지 파일 .jpg로 저장하기\n",
        "\n",
        "      img = sub_soup.find('img', {'id':'main_thumbs'})\n",
        "      img_f = open(f'./images/soy_nuts/{filename}.jpg', 'wb')\n",
        "      img_f.write(requests.get(img['src']).content)\n",
        "      img_f.close()\n",
        "\n",
        "      # info 데이터 저장하기.\n",
        "\n",
        "      if sub_soup.find('span', {'class':'view2_summary_info1'}) is not None :\n",
        "          info1 = sub_soup.find('span', {'class':'view2_summary_info1'}).text\n",
        "          f.write('기준:'+info1+',')\n",
        "\n",
        "      if sub_soup.find('span', {'class':'view2_summary_info2'}) is not None :\n",
        "          info2 = sub_soup.find('span', {'class':'view2_summary_info2'}).text\n",
        "          f.write('조리시간:'+info2+',')\n",
        "\n",
        "      if sub_soup.find('span', {'class':'view2_summary_info3'}) is not None :\n",
        "          info3 = sub_soup.find('span', {'class':'view2_summary_info3'}).text\n",
        "          f.write('난이도:'+info3+'\\n')\n",
        "\n",
        "\n",
        "\n",
        "      # 재료 및 양념 저장하기.\n",
        "      if sub_soup.find('div', {'class':'ready_ingre3'},{'id':'divConfirmedMaterialArea'}):\n",
        "        f.write('\\n\\ningre:\\n')\n",
        "        ingre3 = sub_soup.find('div', {'class':'ready_ingre3'},{'id':'divConfirmedMaterialArea'})\n",
        "        ingre = ingre3.find_all('li')\n",
        "        lists = ''\n",
        "        for i in ingre:\n",
        "            v = i.find('a',{'class':'ingre_list_btn'})\n",
        "            if v :\n",
        "                v.decompose()\n",
        "            # i.find('a',{'class':'ingre_list_btn'}).decompose() # 구매 태그 삭제\n",
        "            # i.span.decompose() -> 정량 삭제\n",
        "            lists = i.text.strip().replace('\\n', '').replace(' ','')\n",
        "            # + i.text.strip() + ','\n",
        "            f.write(lists+'\\n')\n",
        "            # print(lists)\n",
        "\n",
        "        f.write('\\n\\nsteps:\\n')\n",
        "        # 레시피 저장하기.\n",
        "        steps = sub_soup.find_all('div', {'class':'view_step_cont'})\n",
        "        for i, s in enumerate(steps):\n",
        "            p = s.find('p')\n",
        "            if p:\n",
        "                s.p.decompose()\n",
        "                # s.p.decompose() # 도구 삭제\n",
        "            f.write('{}.{}\\n'.format(i+1, s.find('div', {'class':'media-body'}).text))\n",
        "            # print(s.find('div', {'class':'media-body'}).text)\n",
        "        if sub_soup.find('dl', {'class':'view_step_tip'}):\n",
        "            f.write('\\n\\ntips:\\n')\n",
        "            # 팁 저장하기.\n",
        "            tips = sub_soup.find('dl', {'class':'view_step_tip'}).text\n",
        "            f.write(tips)\n",
        "        f.close()"
      ],
      "metadata": {
        "id": "yb1LxHTloJEp"
      },
      "execution_count": null,
      "outputs": []
    }
  ]
}