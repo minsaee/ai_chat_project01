{
  "nbformat": 4,
  "nbformat_minor": 0,
  "metadata": {
    "colab": {
      "provenance": [],
      "authorship_tag": "ABX9TyP5cSP3RpT3JpAoooQq4rfP",
      "include_colab_link": true
    },
    "kernelspec": {
      "name": "python3",
      "display_name": "Python 3"
    },
    "language_info": {
      "name": "python"
    }
  },
  "cells": [
    {
      "cell_type": "markdown",
      "metadata": {
        "id": "view-in-github",
        "colab_type": "text"
      },
      "source": [
        "<a href=\"https://colab.research.google.com/github/minsaee/ai_chat_project01/blob/master/002_langchain.ipynb\" target=\"_parent\"><img src=\"https://colab.research.google.com/assets/colab-badge.svg\" alt=\"Open In Colab\"/></a>"
      ]
    },
    {
      "cell_type": "code",
      "execution_count": null,
      "metadata": {
        "id": "l7S5OHtLI9W8"
      },
      "outputs": [],
      "source": [
        "from google.colab import drive\n",
        "drive.mount('/content/drive')\n",
        "\n",
        "%cd '/content/drive/MyDrive/ai_chat_project01'"
      ]
    },
    {
      "cell_type": "code",
      "source": [
        "!python -V"
      ],
      "metadata": {
        "id": "AU0A4jYHcy4K"
      },
      "execution_count": null,
      "outputs": []
    },
    {
      "cell_type": "code",
      "source": [
        "!pip install langchain openai==0.28.1 chromadb"
      ],
      "metadata": {
        "id": "zQwrKvskJD_f"
      },
      "execution_count": null,
      "outputs": []
    },
    {
      "cell_type": "code",
      "source": [
        "!pip install tiktoken"
      ],
      "metadata": {
        "id": "-6xoqaiSbPPH"
      },
      "execution_count": null,
      "outputs": []
    },
    {
      "cell_type": "code",
      "source": [
        "import os\n",
        "\n",
        "os.environ[\"OPENAI_API_KEY\"]='sk-'"
      ],
      "metadata": {
        "id": "LUXUodUqJIF2"
      },
      "execution_count": null,
      "outputs": []
    },
    {
      "cell_type": "code",
      "source": [
        "import openai\n",
        "import chromadb\n",
        "import langchain\n",
        "\n",
        "from langchain.vectorstores import Chroma\n",
        "from langchain.embeddings import OpenAIEmbeddings\n",
        "from langchain.text_splitter import RecursiveCharacterTextSplitter\n",
        "from langchain.chat_models import ChatOpenAI\n",
        "from langchain.chains import RetrievalQA\n",
        "from langchain.chains import ChatVectorDBChain\n",
        "from langchain.document_loaders import TextLoader\n",
        "from langchain.document_loaders import DirectoryLoader\n",
        "from collections import Counter\n",
        "import numpy as np\n",
        "from numpy import dot\n",
        "from numpy.linalg import norm\n",
        "import pandas as pd\n",
        "from openai.embeddings_utils import get_embedding"
      ],
      "metadata": {
        "id": "dPmWPE66JKO5"
      },
      "execution_count": null,
      "outputs": []
    },
    {
      "cell_type": "code",
      "source": [
        "!pwd"
      ],
      "metadata": {
        "colab": {
          "base_uri": "https://localhost:8080/"
        },
        "id": "fhLyZbc6LRm_",
        "outputId": "ad1b2139-27fd-4099-8d80-2cf0bf175a2c"
      },
      "execution_count": null,
      "outputs": [
        {
          "output_type": "stream",
          "name": "stdout",
          "text": [
            "/content/drive/MyDrive/ai_chat_project01\n"
          ]
        }
      ]
    },
    {
      "cell_type": "code",
      "source": [
        "# data 가져오기\n",
        "\n",
        "loader = DirectoryLoader('./m_data/data/flour', loader_cls=TextLoader)\n",
        "data = loader.load()\n",
        "\n",
        "print(f\"{len(data)}개의 문서를 가지고 있습니다.\")\n",
        "print(f\"문서에{len(data[0].page_content)}개의 단어를 가지고 있습니다.\")"
      ],
      "metadata": {
        "colab": {
          "base_uri": "https://localhost:8080/"
        },
        "id": "fhNDiHQrJNhP",
        "outputId": "8e306206-968a-4469-e1e4-42751a04b2b7"
      },
      "execution_count": null,
      "outputs": [
        {
          "output_type": "stream",
          "name": "stdout",
          "text": [
            "392개의 문서를 가지고 있습니다.\n",
            "문서에875개의 단어를 가지고 있습니다.\n"
          ]
        }
      ]
    },
    {
      "cell_type": "code",
      "source": [
        "# text 분할하기\n",
        "\n",
        "text_splitter = RecursiveCharacterTextSplitter(chunk_size=100, chunk_overlap=0)\n",
        "texts = text_splitter.split_documents(data)\n",
        "\n",
        "print('분할된 텍스트의 개수:', len(texts))"
      ],
      "metadata": {
        "colab": {
          "base_uri": "https://localhost:8080/"
        },
        "id": "kKOQRA-eJUUA",
        "outputId": "bfa4bd01-4560-44de-d462-442f1edba079"
      },
      "execution_count": null,
      "outputs": [
        {
          "output_type": "stream",
          "name": "stdout",
          "text": [
            "분할된 텍스트의 개수: 3387\n"
          ]
        }
      ]
    },
    {
      "cell_type": "code",
      "source": [
        "embedding = OpenAIEmbeddings()\n",
        "persist_directory = './DB/flour'\n",
        "vectordb = Chroma.from_documents(\n",
        "    documents = texts,\n",
        "    embedding = embedding,\n",
        "    persist_directory=persist_directory\n",
        ")\n",
        "\n",
        "vectordb"
      ],
      "metadata": {
        "colab": {
          "base_uri": "https://localhost:8080/"
        },
        "id": "dHWbVP4sKEb_",
        "outputId": "308e214a-da16-4523-9bf5-3f25c563cc25"
      },
      "execution_count": null,
      "outputs": [
        {
          "output_type": "execute_result",
          "data": {
            "text/plain": [
              "<langchain_community.vectorstores.chroma.Chroma at 0x7dab50162950>"
            ]
          },
          "metadata": {},
          "execution_count": 41
        }
      ]
    },
    {
      "cell_type": "code",
      "source": [
        "embedding = OpenAIEmbeddings()\n",
        "db = Chroma( persist_directory='./DB',  embedding_function=embedding)"
      ],
      "metadata": {
        "id": "WP3JJpBqLlLg"
      },
      "execution_count": null,
      "outputs": []
    },
    {
      "cell_type": "code",
      "source": [
        "retriever = db.as_retriever()"
      ],
      "metadata": {
        "id": "xFAWiRjaSLnI"
      },
      "execution_count": null,
      "outputs": []
    },
    {
      "cell_type": "code",
      "source": [
        "qa_chain = RetrievalQA.from_chain_type(\n",
        "    llm = ChatOpenAI(model_name = 'gpt-3.5-turbo', temperature = 0),\n",
        "    chain_type = 'stuff',\n",
        "    retriever = retriever,\n",
        "    return_source_documents = True)"
      ],
      "metadata": {
        "id": "hyPJQ8LBSRlY"
      },
      "execution_count": null,
      "outputs": []
    },
    {
      "cell_type": "code",
      "source": [
        "def get_chatbot_response(chatbot_response):\n",
        "  # print(chatbot_response['result'].strip())\n",
        "  print(chatbot_response['result'])\n",
        "  print('\\n문서 출처:')\n",
        "  for source in chatbot_response['source_documents']:\n",
        "    print(source.metadata['source'])"
      ],
      "metadata": {
        "id": "hHU-KJNkSYIX"
      },
      "execution_count": null,
      "outputs": []
    },
    {
      "cell_type": "code",
      "source": [
        "def get_chatbot_response(chatbot_response):\n",
        "  # print(chatbot_response['result'].strip())\n",
        "  print(chatbot_response['result'])\n",
        "  print('\\n문서 출처:')\n",
        "  for source in chatbot_response['source_documents']:\n",
        "    print(source.metadata['source'])\n",
        "    with open(f\"./{source.metadata['source']}\", \"r\") as f:\n",
        "      text = f.read()\n",
        "      print(text)"
      ],
      "metadata": {
        "id": "ybdGKH2I0cHY"
      },
      "execution_count": null,
      "outputs": []
    },
    {
      "cell_type": "code",
      "source": [
        "### 요약 + 요리제목 5가지\n",
        "import re\n",
        "\n",
        "def get_chatbot_response(chatbot_response):\n",
        "  print(chatbot_response['result'].strip())\n",
        "  print('\\n요리 상세정보:')\n",
        "  for source in chatbot_response['source_documents']:\n",
        "    s = source.metadata['source']\n",
        "    numbers = re.findall(r'\\d+', s)\n",
        "    n = (''.join(numbers))\n",
        "    print(f'https://www.10000recipe.com/recipe/{n}')\n",
        "  print('\\n추천하는 요리:')\n",
        "  for i, source in enumerate(chatbot_response['source_documents']):\n",
        "    print(source.metadata['source'])\n",
        "    with open(f\"./{source.metadata['source']}\", \"r\") as f:\n",
        "      text = f.readlines()[0]\n",
        "      print('{}.{}'.format(i+1, text.strip()))"
      ],
      "metadata": {
        "id": "h-HKS0SV2HVQ"
      },
      "execution_count": null,
      "outputs": []
    },
    {
      "cell_type": "code",
      "source": [
        "### 요약 + 요리제목 5가지\n",
        "import re\n",
        "\n",
        "def get_chatbot_response(chatbot_response):\n",
        "  print(chatbot_response['result'].strip())\n",
        "  print('\\n추천하는 요리:')\n",
        "  for i, source in enumerate(chatbot_response['source_documents']):\n",
        "    s = source.metadata['source']\n",
        "    numbers = re.findall(r'\\d+', s)\n",
        "    n = (''.join(numbers))\n",
        "    # print(source.metadata['source'])\n",
        "    print(source.metadata)\n",
        "    with open(f\"./{source.metadata['source']}\", \"r\") as f:\n",
        "      text = f.readlines()[0]\n",
        "      print('{}.{}'.format(i+1, text.strip()), f'https://www.10000recipe.com/recipe/{n}')"
      ],
      "metadata": {
        "id": "svLO8TEQFyIN"
      },
      "execution_count": null,
      "outputs": []
    },
    {
      "cell_type": "code",
      "source": [
        "input_text = '다시마 쌈 레시피 알려줘.'\n",
        "chatbot_response = qa_chain(input_text)\n",
        "get_chatbot_response(chatbot_response)"
      ],
      "metadata": {
        "id": "mWn4Ik57SVtR"
      },
      "execution_count": null,
      "outputs": []
    },
    {
      "cell_type": "code",
      "source": [
        "def get_chatbot_response(chatbot_response):\n",
        "    response_text = chatbot_response['result'].strip() + '\\n\\n추천하는 요리:\\n'\n",
        "\n",
        "    for i, source in enumerate(chatbot_response['source_documents']):\n",
        "        s = source.metadata['source']\n",
        "        numbers = re.findall(r'\\d+', s)\n",
        "        n = (''.join(numbers))\n",
        "\n",
        "        with open(f\"./{source.metadata['source']}\", \"r\") as f:\n",
        "            text = f.readlines()[0]\n",
        "            response_text += '{}.{} {}\\n'.format(i+1, text.strip(), f'https://www.10000recipe.com/recipe/{n}')\n",
        "\n",
        "    return response_text"
      ],
      "metadata": {
        "id": "7RPgmAbcYwPb"
      },
      "execution_count": null,
      "outputs": []
    },
    {
      "cell_type": "code",
      "source": [
        "get_chatbot_response(chatbot_response)"
      ],
      "metadata": {
        "colab": {
          "base_uri": "https://localhost:8080/"
        },
        "id": "R4zkRkOEdM-i",
        "outputId": "0640c072-23ac-455c-fdab-2d4edf6e5cfd"
      },
      "execution_count": null,
      "outputs": [
        {
          "output_type": "stream",
          "name": "stdout",
          "text": [
            "쌈다시마와 양파를 함께 사용하는 방법에 대해 알려드릴게요.\n",
            "\n",
            "1. 대파를 잘게 다지고 양파도 작게 다져주세요.\n",
            "2. 팬에 식용유를 두르고 중불에서 양파를 볶아주세요.\n",
            "3. 양파가 투명해질 때까지 볶은 후 쌈다시마를 넣고 함께 볶아주세요.\n",
            "4. 쌈다시마가 익을 때까지 중간 불에서 볶아주세요.\n",
            "5. 볶은 쌈다시마와 양파를 다른 요리에 사용하거나, 밥이나 국수 위에 올려서 드셔도 좋아요.\n",
            "\n",
            "이렇게 쌈다시마와 양파를 함께 사용하여 맛있는 요리를 만들어보세요!\n",
            "\n",
            "추천하는 요리:\n",
            "1.﻿단짠 단짠 간장 돼지 불고기 만들기~ https://www.10000recipe.com/recipe/7009621\n",
            "2.﻿명란 어묵전~* https://www.10000recipe.com/recipe/6926421\n",
            "3.﻿ 별모양 두부참치전 https://www.10000recipe.com/recipe/3660582\n",
            "4.﻿삼겹깐풍덮밥 : 비 오는 날에 생각나는 삼겹살!!!! 실패없는 깐풍소스로 덮밥만들기 ♥ https://www.10000recipe.com/recipe/6935331\n"
          ]
        }
      ]
    },
    {
      "cell_type": "code",
      "source": [
        "print(type(\n",
        "get_chatbot_response(chatbot_response)))"
      ],
      "metadata": {
        "colab": {
          "base_uri": "https://localhost:8080/"
        },
        "id": "pTUtKSYgZH3G",
        "outputId": "c94fb5cf-2aaf-402d-b34a-5278f34aacde"
      },
      "execution_count": null,
      "outputs": [
        {
          "output_type": "stream",
          "name": "stdout",
          "text": [
            "<class 'str'>\n"
          ]
        }
      ]
    },
    {
      "cell_type": "code",
      "source": [
        "input_text = '계란후라이의 자세한 재료와 조리순서 알려줘.'"
      ],
      "metadata": {
        "id": "ffyLssp2OquQ"
      },
      "execution_count": null,
      "outputs": []
    },
    {
      "cell_type": "code",
      "source": [
        "chatbot_response = qa_chain(input_text)"
      ],
      "metadata": {
        "id": "O0HOIxclOsNY"
      },
      "execution_count": null,
      "outputs": []
    },
    {
      "cell_type": "code",
      "source": [
        "get_chatbot_response(chatbot_response)"
      ],
      "metadata": {
        "colab": {
          "base_uri": "https://localhost:8080/"
        },
        "id": "abE-n8yrOttQ",
        "outputId": "51e8e93d-99f6-49d1-88f9-55f420a375ca"
      },
      "execution_count": null,
      "outputs": [
        {
          "output_type": "stream",
          "name": "stdout",
          "text": [
            "재료:\n",
            "- 계란\n",
            "- 기름\n",
            "\n",
            "조리순서:\n",
            "1. 계란을 풀어서 그릇에 넣습니다.\n",
            "2. 다진 김밥 재료를 계란에 넣고 소금을 약간 넣어줍니다.\n",
            "3. 팬에 기름을 두르고 계란을 올려줍니다.\n",
            "4. 계란을 돌돌 말아 얇게 썰어줍니다.\n",
            "5. 계란후라이가 완성되면 다른 요리에 사용하거나 볶음밥 위에 얹어줍니다.\n",
            "\n",
            "추천하는 요리:\n",
            "1.﻿고추장 햄볶음밥 https://www.10000recipe.com/recipe/6886947\n",
            "2.﻿예쁜김밥 세가지 한번 해봐요~~^^ https://www.10000recipe.com/recipe/6876144\n",
            "3.﻿볶음밥 https://www.10000recipe.com/recipe/6828161\n",
            "4.﻿폭신폭신 계란지단 잔뜩 넣은 '경주교리김밥'레시피 https://www.10000recipe.com/recipe/6895795\n"
          ]
        }
      ]
    },
    {
      "cell_type": "code",
      "source": [
        "a = get_chatbot_response(chatbot_response)"
      ],
      "metadata": {
        "colab": {
          "base_uri": "https://localhost:8080/"
        },
        "id": "MdwIDa3zT5nZ",
        "outputId": "d7ae56be-aeab-41e0-de43-44d50e724b6e"
      },
      "execution_count": null,
      "outputs": [
        {
          "output_type": "stream",
          "name": "stdout",
          "text": [
            "재료:\n",
            "- 계란\n",
            "- 기름\n",
            "\n",
            "조리순서:\n",
            "1. 계란을 풀어서 그릇에 넣습니다.\n",
            "2. 다진 김밥 재료를 계란에 넣고 소금을 약간 넣어줍니다.\n",
            "3. 팬에 기름을 두르고 계란을 올려줍니다.\n",
            "4. 계란을 돌돌 말아 얇게 썰어줍니다.\n",
            "5. 계란후라이가 완성되면 다른 요리에 사용하거나 볶음밥 위에 얹어줍니다.\n",
            "\n",
            "추천하는 요리:\n",
            "1.﻿고추장 햄볶음밥 https://www.10000recipe.com/recipe/6886947\n",
            "2.﻿예쁜김밥 세가지 한번 해봐요~~^^ https://www.10000recipe.com/recipe/6876144\n",
            "3.﻿볶음밥 https://www.10000recipe.com/recipe/6828161\n",
            "4.﻿폭신폭신 계란지단 잔뜩 넣은 '경주교리김밥'레시피 https://www.10000recipe.com/recipe/6895795\n"
          ]
        }
      ]
    },
    {
      "cell_type": "code",
      "source": [
        "input_text = '계란후라이의 자세한 재료와 조리순서 알려줘.'\n",
        "chatbot_response = qa_chain(input_text)\n",
        "get_chatbot_response(chatbot_response)"
      ],
      "metadata": {
        "colab": {
          "base_uri": "https://localhost:8080/"
        },
        "id": "9yCUqDtCTqkA",
        "outputId": "52669cb9-0d13-439d-9291-a11f75c6f171"
      },
      "execution_count": null,
      "outputs": [
        {
          "output_type": "stream",
          "name": "stdout",
          "text": [
            "재료:\n",
            "- 계란\n",
            "- 기름\n",
            "\n",
            "조리순서:\n",
            "1. 계란을 풀어서 그릇에 넣고 잘 섞어줍니다.\n",
            "2. 팬에 기름을 두르고 중약불로 예열해줍니다.\n",
            "3. 예열된 팬에 계란을 부어서 얇게 펴줍니다.\n",
            "4. 계란이 익을 때까지 한쪽 면을 구워줍니다.\n",
            "5. 구워진 면을 접어서 반숙 후라이 형태로 만들어줍니다.\n",
            "6. 반숙 후라이를 팬에서 꺼내어서 썰어줍니다.\n",
            "\n",
            "이렇게 계란 후라이가 완성됩니다.\n",
            "\n",
            "문서 출처:\n",
            "m_data/data/rice/6886947.txt\n",
            "m_data/data/rice/6876144.txt\n",
            "m_data/data/rice/6828161.txt\n",
            "m_data/data/rice/6895795.txt\n"
          ]
        }
      ]
    },
    {
      "cell_type": "code",
      "source": [
        "input_text = '계란후라이의 자세한 재료와 조리순서 알려줘.'\n",
        "chatbot_response = qa_chain(input_text)\n",
        "get_chatbot_response(chatbot_response)"
      ],
      "metadata": {
        "colab": {
          "base_uri": "https://localhost:8080/"
        },
        "id": "0d8p6qfMUNBA",
        "outputId": "4829635f-5b1e-4ead-8305-673bd1ece28b"
      },
      "execution_count": null,
      "outputs": [
        {
          "output_type": "stream",
          "name": "stdout",
          "text": [
            "재료:\n",
            "- 계란\n",
            "- 기름\n",
            "\n",
            "조리순서:\n",
            "1. 계란을 풀어서 그릇에 넣습니다.\n",
            "2. 다진 김밥 재료를 계란에 넣고 소금을 약간 넣어줍니다.\n",
            "3. 팬에 기름을 두르고 계란을 올려줍니다.\n",
            "4. 계란을 돌돌 말아 얇게 썰어줍니다.\n",
            "5. 계란후라이가 완성되면 다른 요리에 사용하거나 볶음밥 위에 얹어줍니다.\n",
            "\n",
            "추천하는 요리:\n",
            "{'source': 'm_data/data/rice/6886947.txt'}\n",
            "1.﻿고추장 햄볶음밥 https://www.10000recipe.com/recipe/6886947\n",
            "{'source': 'm_data/data/rice/6876144.txt'}\n",
            "2.﻿예쁜김밥 세가지 한번 해봐요~~^^ https://www.10000recipe.com/recipe/6876144\n",
            "{'source': 'm_data/data/rice/6828161.txt'}\n",
            "3.﻿볶음밥 https://www.10000recipe.com/recipe/6828161\n",
            "{'source': 'm_data/data/rice/6895795.txt'}\n",
            "4.﻿폭신폭신 계란지단 잔뜩 넣은 '경주교리김밥'레시피 https://www.10000recipe.com/recipe/6895795\n"
          ]
        }
      ]
    }
  ]
}