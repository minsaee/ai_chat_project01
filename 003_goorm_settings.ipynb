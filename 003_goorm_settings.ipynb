{
  "nbformat": 4,
  "nbformat_minor": 0,
  "metadata": {
    "colab": {
      "provenance": [],
      "authorship_tag": "ABX9TyOAe9YkezjaiTSw/s0fCAkn",
      "include_colab_link": true
    },
    "kernelspec": {
      "name": "python3",
      "display_name": "Python 3"
    },
    "language_info": {
      "name": "python"
    }
  },
  "cells": [
    {
      "cell_type": "markdown",
      "metadata": {
        "id": "view-in-github",
        "colab_type": "text"
      },
      "source": [
        "<a href=\"https://colab.research.google.com/github/minsaee/ai_chat_project01/blob/master/003_goorm_settings.ipynb\" target=\"_parent\"><img src=\"https://colab.research.google.com/assets/colab-badge.svg\" alt=\"Open In Colab\"/></a>"
      ]
    },
    {
      "cell_type": "code",
      "source": [
        "!python -V"
      ],
      "metadata": {
        "colab": {
          "base_uri": "https://localhost:8080/"
        },
        "id": "XVvnirKMecpw",
        "outputId": "bb83d1c6-9faf-40ea-96e6-4c167babe48b"
      },
      "execution_count": null,
      "outputs": [
        {
          "output_type": "stream",
          "name": "stdout",
          "text": [
            "Python 3.10.12\n"
          ]
        }
      ]
    },
    {
      "cell_type": "markdown",
      "source": [
        "공개키가 오래 되어서 생기는 오류 -> 다음 서명이 올바르지 않습니다: EXPKEYSIG 172B5989FCD21EF8 CF CLI Team <cf-cli-eng@pivotal.io>\n",
        "\n",
        "wget -q -O - https://packages.cloudfoundry.org/debian/cli.cloudfoundry.org.key | apt-key add -\n",
        "\n",
        "실행후 sudo apt-get update"
      ],
      "metadata": {
        "id": "FL2P_nCFloZB"
      }
    },
    {
      "cell_type": "markdown",
      "source": [
        "다음 서명들은 공개키가 없기 때문에 인증할 수 없습니다: NO_PUBKEY number\n",
        "\n",
        "$ sudo apt-key adv --keyserver keyserver.ubuntu.com --recv-keys 536F8F1DE80F6A35\n",
        "\n",
        "$ sudo apt-get update"
      ],
      "metadata": {
        "id": "sxXUnXwPkH1g"
      }
    },
    {
      "cell_type": "markdown",
      "source": [
        "구름 파이썬 업그레이드 순서  \n",
        "터미널 입력  \n",
        " - sudo apt update\n",
        " - sudo apt install python 3.10\n",
        "\n",
        "명령어 결과 나오는거 이용하기.\n",
        "\n",
        "- which python3\n",
        "- which python3.10\n",
        "  \n",
        "- sudo update-alternatives --install /usr/local/bin/python3 python /usr/bin/python3.10 1\n",
        "/usr/local/bin/python3 에 결과1를 넣어주세요  \n",
        "/usr/bin/python3.10에 결과2를 넣어주세요  "
      ],
      "metadata": {
        "id": "34rNGTzccqTA"
      }
    },
    {
      "cell_type": "markdown",
      "source": [
        "터미널 설치\n",
        " - pip install --upgrade pip  \n",
        " - pip install fastapi\n",
        " - pip install 'uvicorn[standard]'\n",
        " - pip install openai==0.28.1\n",
        " - pip install langchain\n",
        " - pip install chromadb  \n",
        "\n",
        " - pip install --upgrade pip==20.3"
      ],
      "metadata": {
        "id": "9IY3zyEhbRcR"
      }
    },
    {
      "cell_type": "markdown",
      "source": [
        "쉘스크립트 파일 하나 만들고 하고싶은이름.sh 이렇게 그리고 아래 코드 복붙\n",
        "\n",
        "\n",
        "\n",
        "#!/bin/bash\n",
        "\n",
        "sudo apt-get update\n",
        "\n",
        "echo | sudo add-apt-repository ppa:deadsnakes/ppa\n",
        "\n",
        "sudo apt install python3.10 --yes\n",
        "\n",
        "sudo update-alternatives --install /usr/bin/python python /usr/bin/python3.8 1\n",
        "\n",
        "sudo update-alternatives --install /usr/bin/python python /usr/bin/python3.10 2\n",
        "\n",
        "echo \"1\" | sudo update-alternatives --config python\n",
        "\n",
        "\n",
        "\n",
        "터미널에서 sh 파일이름.sh 입력해서 실행 끝"
      ],
      "metadata": {
        "id": "ge-VN-Soimlp"
      }
    },
    {
      "cell_type": "code",
      "execution_count": null,
      "metadata": {
        "id": "mjdoq1nnbLfu"
      },
      "outputs": [],
      "source": []
    }
  ]
}